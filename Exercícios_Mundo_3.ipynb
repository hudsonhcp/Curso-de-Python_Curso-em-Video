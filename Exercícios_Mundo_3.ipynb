{
  "nbformat": 4,
  "nbformat_minor": 0,
  "metadata": {
    "colab": {
      "provenance": [],
      "authorship_tag": "ABX9TyO4VdwCUsRodvl2UzmECxxe",
      "include_colab_link": true
    },
    "kernelspec": {
      "name": "python3",
      "display_name": "Python 3"
    },
    "language_info": {
      "name": "python"
    }
  },
  "cells": [
    {
      "cell_type": "markdown",
      "metadata": {
        "id": "view-in-github",
        "colab_type": "text"
      },
      "source": [
        "<a href=\"https://colab.research.google.com/github/hudsonhcp/Curso-de-Python_Curso-em-Video/blob/main/Exerc%C3%ADcios_Mundo_3.ipynb\" target=\"_parent\"><img src=\"https://colab.research.google.com/assets/colab-badge.svg\" alt=\"Open In Colab\"/></a>"
      ]
    },
    {
      "cell_type": "markdown",
      "source": [
        "#### 72\n",
        "\n",
        "Crie um programa que tenha uma **Tupla** totalmente preenchida com uma contagem por extenso, de **zero** até **vinte**.\n",
        "\n",
        "Seu programa deverá ler um número pelo teclado (**entre 0 e 20**) e mostrá-lo por **extenso**."
      ],
      "metadata": {
        "id": "6kIvnVh3SrZD"
      }
    },
    {
      "cell_type": "code",
      "source": [
        "números = ('Zero', 'Um', 'Dois', 'Três', 'Quatro', 'Cinco', 'Seis', 'Sete',\n",
        "           'Oito', 'Nove', 'Dez', 'Onze', 'Doze', 'Treze', 'Quatorze', 'Quinze',\n",
        "           'Dezesseis', 'Dezessete', 'Dezoito', 'Dezenove', 'Vinte')\n",
        "while True:\n",
        "  num = int(input('Digite um número (0 a 20): '))\n",
        "  if 0 <= num <= 20:\n",
        "    print(f'O extenso de {num} é {números[num]}.')\n",
        "  else:\n",
        "    print('Tente novamente.')\n",
        "  opção = input('Quer continuar [S/N]: ').upper().strip()\n",
        "  if opção == \"N\":\n",
        "    break"
      ],
      "metadata": {
        "id": "PWeHrmMcjNxe"
      },
      "execution_count": null,
      "outputs": []
    },
    {
      "cell_type": "markdown",
      "source": [
        "#### 73\n",
        "\n",
        "Crie uma **tupla** preenchida com os **20 primeiros** colocados da Tabela do **Campeonato Brasileiro de Futebol**, na ordem de colocação. Depois mostre:\n",
        "\n",
        "1.   Apenas os **5 primeiros** colocados\n",
        "2.   Os **últimos 4** colocados da tabela\n",
        "3.   Uma lista com os times em **ordem alfabética**\n",
        "2.   Em que **posição** na tabela está o time da **Chapecoense**\n",
        "\n",
        "\n",
        "\n"
      ],
      "metadata": {
        "id": "chWnGMeSXeGZ"
      }
    },
    {
      "cell_type": "code",
      "source": [
        "classificação = 'Sport', 'Vitória', 'Novorizontino', 'Vila Nova', 'Criciúma', 'Guarani', 'Juventude', 'Mirassol', 'Ceará', 'Botafogo', 'Atlético', 'CRB', 'Ponte Preta', 'Ituano', 'Sampaio Corrêa', 'Avaí', 'Tombense', 'Londrina', 'Chapecoense', 'ABC'\n",
        "print('Os cinco primeiros colocados são:')\n",
        "for i in range(0,5):\n",
        "  print(f'{i+1}º colocado: {classificação[i]:^20}')\n",
        "print(' ')\n",
        "print('Os últimos quatro colocados são:')\n",
        "for i in range(16,20):\n",
        "  print(f'{i+1}º colocado: {classificação[i]:^20}')\n",
        "print('Em ordem alfabética: ')\n",
        "for i in range(0,20):\n",
        "  print(sorted(classificação)[i])\n",
        "print(f'A Chape está na {classificação.index(\"Chapecoense\") + 1}ª colocação na tabela.')"
      ],
      "metadata": {
        "id": "Dc3PIHjbmyML"
      },
      "execution_count": null,
      "outputs": []
    },
    {
      "cell_type": "markdown",
      "source": [
        "#### 74\n",
        "\n",
        "Crie um programa que vai gerar **cinco números aleatórios** e colocar em uma **tupla**.\n",
        "\n",
        "Depois disso, mostre a **listagem de números** gerados e também indique o **menor** e o **maior** valor que estão na tupla."
      ],
      "metadata": {
        "id": "3ZCNbNrsYYZL"
      }
    },
    {
      "cell_type": "code",
      "source": [
        "from random import randint\n",
        "num = randint(0,10), randint(0,10), randint(0,10), randint(0,10), randint(0,10)\n",
        "print(f'O maior número do conjunto {num} é \"{sorted(num)[-1]}\" e o menor é \"{sorted(num)[0]}\".')\n",
        "print(f'O maior número do conjunto {num} é {max(num)} e o menor é {min(num)}.')"
      ],
      "metadata": {
        "id": "Y3Aj6nOSsS3N"
      },
      "execution_count": null,
      "outputs": []
    },
    {
      "cell_type": "markdown",
      "source": [
        "#### 75\n",
        "\n",
        "Desenvolva um programa que leia **quatro valores** e guarde-os em uma **tupla**. No final, mostre:\n",
        "\n",
        "1.  Quantas vezes apareceu o valor **9**\n",
        "2.  Em que posição foi digitado o primeiro valor **3**.\n",
        "3.  Quais foram os números **pares**."
      ],
      "metadata": {
        "id": "p_BadK22Yrq8"
      }
    },
    {
      "cell_type": "code",
      "source": [
        "n1 = int(input('Digite um número de 1 a 10: '))\n",
        "n2 = int(input('Digite um número de 1 a 10: '))\n",
        "n3 = int(input('Digite um número de 1 a 10: '))\n",
        "n4 = int(input('Digite um número de 1 a 10: '))\n",
        "tupla = n1, n2, n3, n4\n",
        "cont_par = 0\n",
        "if tupla.count(9) > 1:\n",
        "  print(f'O número 9 apareceu {tupla.count(9)} vezes.')\n",
        "elif tupla.count(9) == 0:\n",
        "  print('O número 9 apareceu nenhuma vez.')\n",
        "elif tupla.count(9) == 1:\n",
        "  print(f'O numero 9 apareceu {tupla.count(9)} vez.')\n",
        "if 3 in tupla:\n",
        "  print(f'O primeiro valor 3 foi digitado na {tupla.index(3) + 1}ª posição.')\n",
        "else:\n",
        "  print('O valor 3 não foi digitado. ')\n",
        "for i in tupla:\n",
        "  if i%2 == 0:\n",
        "    cont_par += 1\n",
        "print(f'Foram digitados {cont_par} valores par.')"
      ],
      "metadata": {
        "id": "e_wmJV8at3vv"
      },
      "execution_count": null,
      "outputs": []
    },
    {
      "cell_type": "markdown",
      "source": [
        "#### 76\n",
        "\n",
        "Crie um programa que tenha uma **tupla** única com **nomes de produtos** e seus respectivos **preços**, na sequência.\n",
        "\n",
        "No final, mostre uma listagem de preços organizando os dados em forma **tabular**."
      ],
      "metadata": {
        "id": "mwwFEDLtZTmu"
      }
    },
    {
      "cell_type": "code",
      "source": [
        "produto_nome = (\"Caneta BIC\", 1.50,\n",
        "                \"Mouse\", 35.90,\n",
        "                \"Mesa Digitalizadora\", 135.00,\n",
        "                \"Redmi Note 7\", 1089.00,\n",
        "                \"Notebook\", 3549.90,\n",
        "                \"Óculos RayBan\", 499.00)\n",
        "print(41 * '=')\n",
        "print(f'{\"Listagem de Preços\":-^41}')\n",
        "print(41 * '=')\n",
        "print('Produto', 27 * ' ', 'Preço')\n",
        "i = 0\n",
        "while i in range(len(produto_nome)):\n",
        "  print(f'{produto_nome[i]:.<30}', f'R$ {produto_nome[i + 1]:>7.2f}' )\n",
        "  i += 2"
      ],
      "metadata": {
        "id": "bVsuADzjFr9z"
      },
      "execution_count": null,
      "outputs": []
    },
    {
      "cell_type": "markdown",
      "source": [
        "#### 77\n",
        "\n",
        "Crie um programa que tenha uma tupla com várias palavras (não usar acentos). Depois disso, você deve mostrar, para cada palavra, quais são as suas vogais."
      ],
      "metadata": {
        "id": "HdVLd1heZ4h1"
      }
    },
    {
      "cell_type": "code",
      "source": [
        "palavra = ('abacate', 'tangerina', 'maça', 'melancia', 'uva', 'pera', 'banana', 'manga')\n",
        "for p in palavra:\n",
        "  print(f'\\nA palavra {p.upper()} tem as vogais: ', end='')\n",
        "  for letra in p:\n",
        "    if letra.lower() in \"aeiou\":\n",
        "      print(f'{letra}', end=' ')"
      ],
      "metadata": {
        "id": "gnmj707eIlva"
      },
      "execution_count": null,
      "outputs": []
    },
    {
      "cell_type": "markdown",
      "source": [
        "#### 78\n",
        "\n",
        "Faça um programa que leia **5 valores numéricos** e guarde-os em uma lista.\n",
        "\n",
        "No final, mostre qual foi o **maior** e o **menor** valor digitado e as suas respectivas **posições** na lista."
      ],
      "metadata": {
        "id": "39b9EPxkJnCu"
      }
    },
    {
      "cell_type": "code",
      "source": [
        "lista = []\n",
        "for i in range(0, 5):\n",
        "  lista.append(int(input('Digite um valor: ')))\n",
        "print(f'O maior valor digitado foi {max(lista)} e ele está na ', end='')\n",
        "for i, v in enumerate(lista):\n",
        "  if v == max(lista):\n",
        "    print(f'{i + 1}ª posição... ', end='')\n",
        "print('')\n",
        "print(f'Já o menor valor foi {min(lista)} e ele foi digitado na ', end='')\n",
        "for i, v in enumerate(lista):\n",
        "  if v == min(lista):\n",
        "    print(f'{i + 1}ª posição... ', end='')"
      ],
      "metadata": {
        "id": "SAF-1Y09McVo"
      },
      "execution_count": null,
      "outputs": []
    },
    {
      "cell_type": "markdown",
      "source": [
        "#### 79\n",
        "\n",
        "Crie um programa onde o usuário pode digitar vários valores numéricos e cadastre-os em uma lista. Caso o número já exista lá dentro, ele não será adicionado.\n",
        "\n",
        "No final, serão exibidos todos os valores únicos digitados, em ordem crescente."
      ],
      "metadata": {
        "id": "8yF4hzMUJnAS"
      }
    },
    {
      "cell_type": "code",
      "source": [
        "lista = []\n",
        "while True:\n",
        "  n = int(input('Digite um valor: '))\n",
        "  if n not in lista:\n",
        "    lista.append(n)\n",
        "    print('Valor adicionado com sucesso.')\n",
        "  else:\n",
        "    print('Valor duplicado. Não irei adicionar.')\n",
        "  resp = input('Quer continuar [S/N)? ').strip().upper()\n",
        "  if resp == \"N\":\n",
        "    break\n",
        "lista.sort()\n",
        "print(f'Você digitou os valores {lista}.')"
      ],
      "metadata": {
        "id": "S-N8aM19yZ1T"
      },
      "execution_count": null,
      "outputs": []
    },
    {
      "cell_type": "markdown",
      "source": [
        "#### 80\n",
        "\n",
        "Crie um programa onde o usuário possa digitar cinco valores numéricos e cadastre-os em uma lista. já na posição correta de inserção (sem usar o sort()).\n",
        "\n",
        "No final, mostre a lista ordenada na tela."
      ],
      "metadata": {
        "id": "kdKB5LaaKmdQ"
      }
    },
    {
      "cell_type": "code",
      "source": [
        "lista = []\n",
        "cont = 0\n",
        "for i in range(0,5):\n",
        "  n = int(input('Digite um valor: '))\n",
        "  if i == 0 or n > lista[-1]:\n",
        "    lista.append(n)\n",
        "    print('Adicionado ao final da lista.')\n",
        "  else:\n",
        "    pos = 0\n",
        "    while pos <= len(lista):\n",
        "      if n <= lista[pos]:\n",
        "        lista.insert(pos, n)\n",
        "        print(f'Adicionado na posição {pos} da lista.')\n",
        "        break\n",
        "      pos += 1\n",
        "print(lista)"
      ],
      "metadata": {
        "id": "VLiuWR4N1d2-"
      },
      "execution_count": null,
      "outputs": []
    },
    {
      "cell_type": "markdown",
      "source": [
        "#### 81\n",
        "\n",
        "Crie um programa que vai ler vários números e colocar em uma lista.\n",
        "\n",
        "Depois disso, mostre:\n",
        "\n",
        "a) Quantos números foram digitados;\n",
        "\n",
        "b) A lista de valores, ordenada de forma decrescente;\n",
        "\n",
        "c) Se o valor 5 foi digitado e está ou não na lista."
      ],
      "metadata": {
        "id": "n1gX_U0uLJxE"
      }
    },
    {
      "cell_type": "code",
      "source": [
        "lista = []\n",
        "while True:\n",
        "  lista.append(int(input('Digite um valor: ')))\n",
        "  resp = input('Quer continuar [S/N]? ').strip().upper()\n",
        "  if resp == \"N\":\n",
        "    break\n",
        "print(f'Você digitou {len(lista)} valores.')\n",
        "lista.sort(reverse = True)\n",
        "print(f'Os valores em ordem decrescente são {lista}.')\n",
        "print('O valor 5 faz parte da lista.' if 5 in lista else 'O valor 5 não faz parte da lista.')"
      ],
      "metadata": {
        "id": "j-X6fmFgBUZN"
      },
      "execution_count": null,
      "outputs": []
    },
    {
      "cell_type": "markdown",
      "source": [
        "#### 82\n",
        "\n",
        "Crie um programa que vai ler vários números e colocar em uma lista.\n",
        "\n",
        "\n",
        "Depois disso, crie duas listas extras que vão conter apenas os valores pares e os valores ímpares digitados, respectivamente.\n",
        "\n",
        "Ao final, mostre o conteúdo das três listas geradas."
      ],
      "metadata": {
        "id": "n_vPN0GuLhYu"
      }
    },
    {
      "cell_type": "code",
      "source": [
        "lista = []\n",
        "par = []\n",
        "impar = []\n",
        "while True:\n",
        "  lista.append(int(input('Digite um valor: ')))\n",
        "  resp = input('Quer continuar [S/N]? ').strip().upper()\n",
        "  if resp == \"N\":\n",
        "    break\n",
        "for i in lista:\n",
        "  if i % 2 == 0:\n",
        "    par.append(i)\n",
        "  else:\n",
        "    impar.append(i)\n",
        "print(f'Os valores da lista principal são {lista}.')\n",
        "print(f'Os valores pares são {par}.')\n",
        "print(f'Os valores ímpares são {impar}.')"
      ],
      "metadata": {
        "id": "-Cb6DXk1FiLA"
      },
      "execution_count": null,
      "outputs": []
    },
    {
      "cell_type": "markdown",
      "source": [
        "#### 83\n",
        "\n",
        "Crie um programa onde o usuário digite uma expressão qualquer que use parênteses. Seu aplicativo deverá analisar se a expressão passada está com os parênteses abertos e fechados na ordem correta."
      ],
      "metadata": {
        "id": "O0B762tcL63E"
      }
    },
    {
      "cell_type": "code",
      "source": [
        "expr = str(input('Digite a expressão: '))\n",
        "pilha= []\n",
        "for simb in expr:\n",
        "  if simb == \"(\":\n",
        "    pilha.append(\"(\")\n",
        "  elif simb == \")\":\n",
        "    if len(pilha) > 0:\n",
        "      pilha.pop()\n",
        "    else:\n",
        "      pilha.append(\")\")\n",
        "      break\n",
        "if len(pilha) == 0:\n",
        "  print('Sua expressão está válida.')\n",
        "else:\n",
        "  print('Sua expressão está errada.')"
      ],
      "metadata": {
        "id": "RdusrXACVr-6"
      },
      "execution_count": null,
      "outputs": []
    },
    {
      "cell_type": "markdown",
      "source": [
        "#### 84\n",
        "\n",
        "Faça um programa que leia nome e peso de várias pessoas, guardando tudo em uma lista. No final, mostre:\n",
        "\n",
        "a) Quantas pessoas foram cadastradas;\n",
        "\n",
        "b) Uma listagem com as pessoas mais pesadas;\n",
        "\n",
        "c) Uma listagem com as pessoas mais leves."
      ],
      "metadata": {
        "id": "lHQTGsLTLDNr"
      }
    },
    {
      "cell_type": "code",
      "source": [
        "dados = list()\n",
        "temp = list()\n",
        "maior = menor = 0\n",
        "while True:\n",
        "  temp.append(str(input('Digite o nome: ')))\n",
        "  temp.append(float(input('Digite o peso: ')))\n",
        "  if len(dados) == 0:\n",
        "    maior = menor = temp[1]\n",
        "  else:\n",
        "    if temp[1] > maior:\n",
        "      maior = temp[1]\n",
        "    if temp[1] < menor:\n",
        "      menor = temp[1]\n",
        "  dados.append(temp[:])\n",
        "  temp.clear()\n",
        "  resp = str(input('Quer continuar [S/N]? '))\n",
        "  if resp in 'Nn':\n",
        "    break\n",
        "print(f'Foram cadastradas {len(dados)} pessoas.')\n",
        "print(f'O maior peso foi {maior} kg. Peso de ', end='')\n",
        "for d in dados:\n",
        "  if d[1] == maior:\n",
        "    print(f'[{d[0]}]', end=' ')\n",
        "print('')\n",
        "print(f'O menor peso foi {menor} kg. Peso de ', end='')\n",
        "for d in dados:\n",
        "  if d[1] == menor:\n",
        "    print(f'[{d[0]}]', end=' ')"
      ],
      "metadata": {
        "id": "42DORJnG5sdh"
      },
      "execution_count": null,
      "outputs": []
    },
    {
      "cell_type": "markdown",
      "source": [
        "#### 85\n",
        "\n",
        "Crie um programa onde o usuário possa digitar sete valores numéricos e cadastre-os em uma lista única que mantenha separados os valores pares e ímpares. No final, mostre os valores pares e ímpares em ordem crescente."
      ],
      "metadata": {
        "id": "5g1OfP64LDDd"
      }
    },
    {
      "cell_type": "code",
      "source": [
        "num = [[], []]\n",
        "for i in range(1, 8):\n",
        "  numero = int(input(f'Digite o {i}º valor: '))\n",
        "  if numero % 2 == 0:\n",
        "    num[0].append(numero)\n",
        "  else:\n",
        "    num[1].append(numero)\n",
        "num[0].sort()\n",
        "num[1].sort()\n",
        "print(f'Os números pares foram {num[0]} e os ímpares foram {num[1]}.')"
      ],
      "metadata": {
        "id": "9_tA17T6xarG"
      },
      "execution_count": null,
      "outputs": []
    },
    {
      "cell_type": "markdown",
      "source": [
        "#### 86\n",
        "\n",
        "Crie um programa que crie uma matrix de dimensão 3x3 e preencha com valores lidos pelo teclado.\n",
        "\n",
        "No final, mostre a matriz na tela com a formatação correta."
      ],
      "metadata": {
        "id": "DkM6yF-FcqXa"
      }
    },
    {
      "cell_type": "code",
      "source": [
        "matriz = [[], [], []]\n",
        "for i in range(0,3):\n",
        "  matriz[0].append(int(input(f'Digite o valor do quadrante 1x{i}: ')))\n",
        "for i in range(0,3):\n",
        "  matriz[1].append(int(input(f'Digite o valor do quadrante 2x{i}: ')))\n",
        "for i in range (0,3):\n",
        "  matriz[2].append(int(input(f'Digite o valor do quadrante 3x{i}: ')))\n",
        "for i in range(0,3):\n",
        "  print(f'[{matriz[0][i]:^5}]', end=' ')\n",
        "print('')\n",
        "for i in range(0,3):\n",
        "  print(f'[{matriz[1][i]:^5}]', end=' ')\n",
        "print('')\n",
        "for i in range(0,3):\n",
        "  print(f'[{matriz[2][i]:^5}]', end=' ')"
      ],
      "metadata": {
        "id": "kiuf_0EPUxfq"
      },
      "execution_count": null,
      "outputs": []
    },
    {
      "cell_type": "markdown",
      "source": [
        "#### 87\n",
        "\n",
        "Aprimore o desafio anterior, mostrando no final:\n",
        "\n",
        "a) A soma de todos os valores pares digitados;\n",
        "\n",
        "b) A soma dos valores da terceira coluna;\n",
        "\n",
        "c) O maior valor da segunda linha."
      ],
      "metadata": {
        "id": "yuucH--3dhXt"
      }
    },
    {
      "cell_type": "code",
      "source": [
        "par = 0\n",
        "soma_coluna_3 = 0\n",
        "maior_linha_2 = 0\n",
        "matriz = [[], [], []]\n",
        "for i in range(0,3):\n",
        "  matriz[0].append(int(input(f'Digite o valor do quadrante 0x{i}: ')))\n",
        "  if matriz[0][i] % 2 == 0:\n",
        "    par += matriz[0][i]\n",
        "  if i == 2:\n",
        "    soma_coluna_3 += matriz[0][i]\n",
        "for i in range(0,3):\n",
        "  matriz[1].append(int(input(f'Digite o valor do quadrante 1x{i}: ')))\n",
        "  if matriz[1][i] % 2 == 0:\n",
        "    par += matriz[1][i]\n",
        "  if i == 2:\n",
        "    soma_coluna_3 += matriz[1][i]\n",
        "for i in range (0,3):\n",
        "  matriz[2].append(int(input(f'Digite o valor do quadrante 2x{i}: ')))\n",
        "  if matriz[2][i] % 2 == 0:\n",
        "    par += matriz[2][i]\n",
        "  if i == 2:\n",
        "    soma_coluna_3 += matriz[2][i]\n",
        "for i in range(0,3):\n",
        "  print(f'[{matriz[0][i]:^5}]', end=' ')\n",
        "print('')\n",
        "for i in range(0,3):\n",
        "  print(f'[{matriz[1][i]:^5}]', end=' ')\n",
        "print('')\n",
        "for i in range(0,3):\n",
        "  print(f'[{matriz[2][i]:^5}]', end=' ')\n",
        "print('')\n",
        "print(f'A soma de todos os valores pares digitados foi {par}.')\n",
        "print(f'A soma dos valores da terceira coluna foi {soma_coluna_3}.')\n",
        "print(f'O maior valor da segunda linha foi {max(matriz[1])}.')"
      ],
      "metadata": {
        "id": "5i3jGAJ5uLQb"
      },
      "execution_count": null,
      "outputs": []
    },
    {
      "cell_type": "markdown",
      "source": [
        "#### 88\n",
        "\n",
        "Faça um programa que ajude um jogador da Mega Sena a criar palpites. O programa vai perguntar quantos jogos serão gerados e vai sortear 6 números entre 1 e 60 para cada jogo, cadastrando tudo em uma lista composta."
      ],
      "metadata": {
        "id": "2rheUelbd8Pw"
      }
    },
    {
      "cell_type": "code",
      "source": [
        "from random import randint\n",
        "print(30*'-')\n",
        "print(5*' ', 'M E G A  S E N A', 5*' ')\n",
        "print(30*'-')\n",
        "resp = int(input('Quer gerar quantos jogos: '))\n",
        "print(30*'-')\n",
        "lista = list()\n",
        "lista_completa = list()\n",
        "while len(lista_completa) < resp:\n",
        "  while len(lista) < 6 :\n",
        "    num = randint(1,60)\n",
        "    if num not in lista:\n",
        "      lista.append(num)\n",
        "  lista.sort()\n",
        "  lista_completa.append(lista[:])\n",
        "  lista.clear()\n",
        "for cont, l in enumerate(lista_completa):\n",
        "  print(f'Jogo {cont+1}: {l}')"
      ],
      "metadata": {
        "id": "Sq5NyJvtkMbV"
      },
      "execution_count": null,
      "outputs": []
    },
    {
      "cell_type": "markdown",
      "source": [
        "#### 89\n",
        "\n",
        "Crie um programa que leia nome e duas notas de vários alunos e guarde tudo em uma lista composta. No final, mostre um boletim contendo a média de cada um e permita que o usuário possa mostrar as notas de cada aluno individualmente."
      ],
      "metadata": {
        "id": "nH4q91eAePnM"
      }
    },
    {
      "cell_type": "code",
      "source": [
        "alunos = []\n",
        "while True:\n",
        "  nome = str(input('Digite o nome do aluno: ').strip())\n",
        "  n1 = float(input('Digite a 1ª nota: '))\n",
        "  n2 = float(input('Digite a 2ª nota: '))\n",
        "  media = (n1 + n2)/2\n",
        "  alunos.append([nome, [n1, n2], media])\n",
        "  resp = input('Quer continuar [S/N]: ').strip()\n",
        "  if resp in 'nN':\n",
        "    break\n",
        "print('Média final dos alunos')\n",
        "print(f'{\"No.\":<4}{\"NOME\":<10}{\"MEDIA\":>8}')\n",
        "for cont, al in enumerate(alunos):\n",
        "  print(f'{cont:<4}{al[0]:<10}{al[2]:>8}')\n",
        "while True:\n",
        "  opção = int(input('Quer ver as notas de qual aluno? [999 para sair]'))\n",
        "  if opção == 999:\n",
        "    break\n",
        "  if opção not in range(0, len(alunos)):\n",
        "    print('Opção Inválida.')\n",
        "  if opção in range(0, len(alunos)):\n",
        "    print(f'As notas de {alunos[opção][0]} foram {alunos[opção][1]}.')"
      ],
      "metadata": {
        "id": "Z6ITFK9Zmakz"
      },
      "execution_count": null,
      "outputs": []
    },
    {
      "cell_type": "markdown",
      "source": [
        "#### 90\n",
        "\n",
        "Faça um programa que leia nome e média de um aluno, guardando também a situação em um dicionário. No final, mostre o conteúdo de estrutura na tela."
      ],
      "metadata": {
        "id": "ZWKUkjQz3r1t"
      }
    },
    {
      "cell_type": "code",
      "source": [
        "nome = input('Digite seu nome: ')\n",
        "media = float(input(f'Digite a média de {nome}: '))\n",
        "aluno = {'nome': nome, 'média': media}\n",
        "if media >= 7:\n",
        "    aluno['situação'] = 'APROVADO'\n",
        "    print(f'''O nome do aluno é {aluno[\"nome\"]}.\n",
        "Sua média é {aluno[\"média\"]}.\n",
        "Por isso está {aluno[\"situação\"]}.''')\n",
        "elif media < 5:\n",
        "    aluno['situação'] = 'REPROVADO'\n",
        "    print(f'''O nome do aluno é {aluno[\"nome\"]}.\n",
        "Sua média é {aluno[\"média\"]}.\n",
        "Por isso está {aluno[\"situação\"]}.''')\n",
        "else:\n",
        "    aluno['situação'] = 'em RECUPERAÇÃO'\n",
        "    print(f'''O nome do aluno é {aluno[\"nome\"]}.\n",
        "Sua média é {aluno[\"média\"]}.\n",
        "Por isso está {aluno[\"situação\"]}.''')"
      ],
      "metadata": {
        "id": "nr2m83j88_J1"
      },
      "execution_count": null,
      "outputs": []
    },
    {
      "cell_type": "markdown",
      "source": [
        "#### 91\n",
        "\n",
        "Crie um programa onde 4 jogadores joguem um dado e tenham resultados aleatórios. Guarde esses resultados em um dicionário. No final, coloque esse dicionário em ordem, sabendo que o vencedor tirou o maior número do dado."
      ],
      "metadata": {
        "id": "bsyO9bYH4I_u"
      }
    },
    {
      "cell_type": "code",
      "source": [
        "from random import randint\n",
        "from time import sleep\n",
        "from operator import itemgetter\n",
        "resultados = {'jogador 1': randint(1, 6),\n",
        "              'jogador 2': randint(1, 6),\n",
        "              'jogador 3': randint(1, 6),\n",
        "              'jogador 4': randint(1, 6)}\n",
        "for k, v in resultados.items():\n",
        "    print(f'{k} tirou {v}.')\n",
        "    sleep(1)\n",
        "ranking = sorted(resultados.items(), key=itemgetter(1), reverse = True)\n",
        "print('Então, por ordem de colocação foi:')\n",
        "for k, v in enumerate(ranking):\n",
        "    print(f'{k+1}º é {v[0]} que tirou {v[1]}')\n",
        "    sleep(1)"
      ],
      "metadata": {
        "id": "C5yZ13wgZyQs"
      },
      "execution_count": null,
      "outputs": []
    },
    {
      "cell_type": "markdown",
      "source": [
        "#### 92\n",
        "\n",
        "Crie um programa que leia nome, ano de nascimento e carteira de trabalho e cadastre-os (com idade) em um dicionário se por acaso a CTPS for diferente de ZERO, o dicionário receberá também o ano de contratação e o salário. Calcule e acrescente, além da idade, com quantos anos a pessoa vai se aposentar."
      ],
      "metadata": {
        "id": "gCAtoykP42J_"
      }
    },
    {
      "cell_type": "code",
      "source": [
        "from datetime import datetime\n",
        "trabalhador = {'nome': input('Nome: '), 'nasc': int(input('Ano de Nascimento: '))}\n",
        "trabalhador['idade'] = datetime.now().year - trabalhador['nasc']\n",
        "ctps = int(input('Carteira de Trabalho ( 0 se não tem): '))\n",
        "if ctps == 0:\n",
        "    trabalhador['ctps'] = ctps\n",
        "    for k, v in trabalhador.items():\n",
        "        print(f'    - {k} tem o valor {v}.')\n",
        "else:\n",
        "    trabalhador['ctps'] = ctps\n",
        "    trabalhador['ano de contratação'] = int(input('Ano de contratação: '))\n",
        "    trabalhador['salário'] = float(input('Salário: '))\n",
        "    trabalhador['aposentadoria'] = trabalhador['ano de contratação'] + 35 - trabalhador['nasc']\n",
        "    for k, v in trabalhador.items():\n",
        "        print(f'    - {k} tem valor {v}.')"
      ],
      "metadata": {
        "id": "5YDnpmfbdh6v"
      },
      "execution_count": null,
      "outputs": []
    },
    {
      "cell_type": "markdown",
      "source": [
        "#### 93\n",
        "\n",
        "Crie um programa que gerencie o aproveitamento de um jogador de futebol. O programa vai ler o nome do jogador e quantas partidas ele jogou. Depois vai ler a quantidade de gols feitos em cada partida. No final, tudo isso será guardado em um dicionário. incluindo o total de gols feitos durante o campeonato."
      ],
      "metadata": {
        "id": "GVd0WcCS6H9N"
      }
    },
    {
      "cell_type": "markdown",
      "source": [
        "#### 94\n",
        "\n",
        "Crie um programa que leia nome, sexo e idade de várias pessoas, guardando os dados de cada pessoa em um dicionário e  todos os dicionários em uma lista. No final, mostre:\n",
        "1.   Quantas pessoas foram cadastradas;\n",
        "2.   A média de idade do grupo;\n",
        "3.   Uma lista com todas as mulheres;\n",
        "4.   Uma lista com todas as pessoas com idade acima da média."
      ],
      "metadata": {
        "id": "TUjPAL017hR3"
      }
    },
    {
      "cell_type": "markdown",
      "source": [
        "#### 95\n",
        "\n",
        "Aprimore o DESAFIO 93 para que ele funcione com vários jogadores, incluindo um sistema de visualização de detalhes do aproveitamento de cada jogador."
      ],
      "metadata": {
        "id": "ATA8ZFhh8d7Y"
      }
    }
  ]
}